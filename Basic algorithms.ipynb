{
 "cells": [
  {
   "cell_type": "code",
   "execution_count": 6,
   "id": "86bf63d2-bf47-4eef-a2d6-ce3ef98ab139",
   "metadata": {},
   "outputs": [
    {
     "name": "stdin",
     "output_type": "stream",
     "text": [
      "number 1 2\n",
      "number 2 12\n"
     ]
    },
    {
     "name": "stdout",
     "output_type": "stream",
     "text": [
      "2\n"
     ]
    }
   ],
   "source": [
    "def gcd(m,n):\n",
    "    (a,b)=(max(m,n),min(m,n))\n",
    "    if a%b==0:\n",
    "        return b\n",
    "    else:\n",
    "        gcd(a,a%b)\n",
    "num1 = int(input(\"number 1\"))\n",
    "num2 = int(input(\"number 2\"))\n",
    "print(gcd(num1,num2))"
   ]
  },
  {
   "cell_type": "code",
   "execution_count": null,
   "id": "904c1645-6f7e-4d7b-8493-2111ff646a10",
   "metadata": {},
   "outputs": [],
   "source": []
  }
 ],
 "metadata": {
  "kernelspec": {
   "display_name": "Python 3 (ipykernel)",
   "language": "python",
   "name": "python3"
  },
  "language_info": {
   "codemirror_mode": {
    "name": "ipython",
    "version": 3
   },
   "file_extension": ".py",
   "mimetype": "text/x-python",
   "name": "python",
   "nbconvert_exporter": "python",
   "pygments_lexer": "ipython3",
   "version": "3.11.7"
  }
 },
 "nbformat": 4,
 "nbformat_minor": 5
}
